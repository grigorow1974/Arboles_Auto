{
    "cells": [
        {
            "cell_type": "markdown",
            "metadata": {},
            "source": [
                "# Explore here"
            ]
        },
        {
            "cell_type": "code",
            "execution_count": 1,
            "metadata": {},
            "outputs": [],
            "source": [
                "# Your code here\n",
                "\n",
                "import pandas as pd\n",
                "\n",
                "df = pd.read_csv('https://raw.githubusercontent.com/4GeeksAcademy/decision-tree-project-tutorial/main/diabetes.csv')\n"
            ]
        },
        {
            "cell_type": "code",
            "execution_count": 6,
            "metadata": {},
            "outputs": [
                {
                    "name": "stdout",
                    "output_type": "stream",
                    "text": [
                        "LogisticRegression Accuracy score: 74.67532467532467\n",
                        "KNeighborsClassifier Accuracy score: 66.23376623376623\n",
                        "SVC Accuracy score: 76.62337662337663\n",
                        "RandomForestClassifier Accuracy score: 75.32467532467533\n",
                        "DecisionTreeClassifier Accuracy score: 74.67532467532467\n"
                    ]
                }
            ],
            "source": [
                "import pandas as pd\n",
                "from sklearn.linear_model import LogisticRegression\n",
                "from sklearn.tree import DecisionTreeClassifier\n",
                "from sklearn.neighbors import KNeighborsClassifier\n",
                "from sklearn.svm import SVC\n",
                "from sklearn.ensemble import RandomForestClassifier\n",
                "from sklearn.model_selection import train_test_split\n",
                "from sklearn.metrics import accuracy_score\n",
                "\n",
                "# Dividir en características y etiqueta objetivo\n",
                "X = df.drop('Outcome', axis=1)\n",
                "y = df['Outcome']\n",
                "\n",
                "# Dividir en conjuntos de entrenamiento y prueba\n",
                "X_train, X_test, y_train, y_test = train_test_split(X, y, test_size=0.2, random_state=42)\n",
                "\n",
                "# Crear los modelos\n",
                "models = [\n",
                "    LogisticRegression(max_iter=10000),\n",
                "    KNeighborsClassifier(),\n",
                "    SVC(),\n",
                "    RandomForestClassifier(),\n",
                "    DecisionTreeClassifier()\n",
                "]\n",
                "\n",
                "# Entrenar y evaluar los modelos\n",
                "for model in models:\n",
                "    model.fit(X_train, y_train)\n",
                "    y_pred = model.predict(X_test)\n",
                "    accuracy = accuracy_score(y_test, y_pred)\n",
                "    print(f\"{type(model).__name__} Accuracy score: {accuracy*100}\")"
            ]
        },
        {
            "cell_type": "code",
            "execution_count": 8,
            "metadata": {},
            "outputs": [
                {
                    "name": "stdout",
                    "output_type": "stream",
                    "text": [
                        "El mejor model es SVC Accuracy score: 76.62337662337663\n"
                    ]
                }
            ],
            "source": [
                "print ('El mejor model es SVC Accuracy score: 76.62337662337663')"
            ]
        },
        {
            "cell_type": "code",
            "execution_count": null,
            "metadata": {},
            "outputs": [],
            "source": []
        }
    ],
    "metadata": {
        "kernelspec": {
            "display_name": "Python 3.8.13 64-bit ('3.8.13')",
            "language": "python",
            "name": "python3"
        },
        "language_info": {
            "codemirror_mode": {
                "name": "ipython",
                "version": 3
            },
            "file_extension": ".py",
            "mimetype": "text/x-python",
            "name": "python",
            "nbconvert_exporter": "python",
            "pygments_lexer": "ipython3",
            "version": "3.12.0"
        },
        "orig_nbformat": 4,
        "vscode": {
            "interpreter": {
                "hash": "110cc1dee26208153f2972f08a2ad52b6a56238dc66d48e87fb757ef2996db56"
            }
        }
    },
    "nbformat": 4,
    "nbformat_minor": 2
}
